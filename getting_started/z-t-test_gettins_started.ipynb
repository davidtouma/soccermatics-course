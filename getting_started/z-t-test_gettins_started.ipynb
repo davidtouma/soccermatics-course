{
 "cells": [
  {
   "cell_type": "code",
   "execution_count": 1,
   "metadata": {},
   "outputs": [],
   "source": [
    "import pandas as pd\n",
    "import numpy as np\n",
    "import json\n",
    "# plotting\n",
    "import matplotlib.pyplot as plt\n",
    "#opening data\n",
    "import os\n",
    "import pathlib\n",
    "import warnings\n",
    "pd.options.mode.chained_assignment = None\n",
    "warnings.filterwarnings('ignore')"
   ]
  },
  {
   "cell_type": "code",
   "execution_count": 4,
   "metadata": {},
   "outputs": [],
   "source": [
    "#Opening Dataset\n",
    "\n",
    "path_players = os.path.join(str(pathlib.Path().resolve()),  'data', 'Wyscout', 'teams.json')\n",
    "path_event = os.path.join(str(pathlib.Path().resolve()),  'data', 'Wyscout', 'events_England.json')\n",
    "\n",
    "with open(path_players) as f:\n",
    "    teams = json.load(f)\n",
    "teams_df = pd.DataFrame(teams)\n",
    "\n",
    "with open(path_event) as f:\n",
    "    event = json.load(f)\n",
    "train = pd.DataFrame(event)\n",
    "\n",
    "teams_df = teams_df.rename(columns={\"wyId\":\"teamId\"})\n"
   ]
  },
  {
   "cell_type": "code",
   "execution_count": 5,
   "metadata": {},
   "outputs": [],
   "source": [
    "#get corners\n",
    "corners = train.loc[train[\"subEventName\"] == \"Corner\"]\n",
    "#count corners by team\n",
    "corners_by_team = corners.groupby(['teamId']).size().reset_index(name='counts')\n",
    "#merge with team name\n",
    "summary = corners_by_team.merge(teams_df[[\"name\", \"teamId\"]], how = \"left\", on = [\"teamId\"])\n",
    "#count corners by team by game\n",
    "corners_by_game = corners.groupby(['teamId', \"matchId\"]).size().reset_index(name='counts')\n",
    "#merge with team name\n",
    "summary2 = corners_by_game.merge(teams_df[[\"name\", \"teamId\"]], how = \"left\", on = [\"teamId\"])"
   ]
  },
  {
   "cell_type": "code",
   "execution_count": 6,
   "metadata": {},
   "outputs": [
    {
     "name": "stdout",
     "output_type": "stream",
     "text": [
      "P-value amounts to 0.34703298713007624  - We do not reject null hypothesis - Manchester City take 8 corners per game\n"
     ]
    }
   ],
   "source": [
    "from statsmodels.stats.weightstats import ztest\n",
    "\n",
    "#get city corners\n",
    "city_corners = summary2.loc[summary2[\"name\"] == 'Manchester City'][\"counts\"]\n",
    "\n",
    "#test\n",
    "t, pvalue = ztest(city_corners,  value=8)\n",
    "#checking outcome\n",
    "if pvalue < 0.05:\n",
    "    print(\"P-value amounts to\", pvalue, \"- We reject null hypothesis - Manchester City do not take 8 corners per game\")\n",
    "else:\n",
    "    print(\"P-value amounts to\", pvalue, \" - We do not reject null hypothesis - Manchester City take 8 corners per game\")"
   ]
  },
  {
   "cell_type": "code",
   "execution_count": 15,
   "metadata": {},
   "outputs": [
    {
     "name": "stdout",
     "output_type": "stream",
     "text": [
      "P-value amounts to 0.0023931156479123942 - We reject null hypothesis - Manchester City take more than 6 corners per game\n"
     ]
    }
   ],
   "source": [
    "t, pvalue = ztest(city_corners,  value=6, alternative = \"larger\")\n",
    "if pvalue < 0.05:\n",
    "    print(\"P-value amounts to\", pvalue, \"- We reject null hypothesis - Manchester City take more than 6 corners per game\")\n",
    "else:\n",
    "    print(\"P-value amounts to\", pvalue, \" - We do not reject null hypothesis - Manchester City do not take 6 more corners per game\")"
   ]
  },
  {
   "cell_type": "code",
   "execution_count": 16,
   "metadata": {},
   "outputs": [
    {
     "name": "stdout",
     "output_type": "stream",
     "text": [
      "P-value amounts to 0.4023279517451914  - We do not reject null hypothesis - Leicester City take average number of corners than league average\n"
     ]
    }
   ],
   "source": [
    "mean = summary[\"counts\"].mean()\n",
    "std = summary[\"counts\"].std()\n",
    "\n",
    "\n",
    "from scipy.stats import ttest_1samp\n",
    "leicester_corners = summary.loc[summary[\"name\"] == \"Leicester City\"][\"counts\"].iloc[0]\n",
    "t, pvalue = ttest_1samp(summary[\"counts\"], leicester_corners)\n",
    "\n",
    "if pvalue < 0.05:\n",
    "    print(\"P-value amounts to\", pvalue, \"- We reject null hypothesis - Leicester City do not take average number of corners than league average\")\n",
    "else:\n",
    "    print(\"P-value amounts to\", pvalue, \" - We do not reject null hypothesis - Leicester City take average number of corners than league average\")"
   ]
  },
  {
   "cell_type": "code",
   "execution_count": 17,
   "metadata": {},
   "outputs": [
    {
     "name": "stdout",
     "output_type": "stream",
     "text": [
      "P-value amounts to 0.0016098690970901368 - We reject null hypothesis - Arsenal take more corners than league average\n"
     ]
    }
   ],
   "source": [
    "from scipy.stats import ttest_1samp\n",
    "arsenal_corners = summary.loc[summary[\"name\"] == \"Arsenal\"][\"counts\"].iloc[0]\n",
    "t, pvalue = ttest_1samp(summary[\"counts\"], arsenal_corners, alternative='less')\n",
    "\n",
    "if pvalue < 0.05:\n",
    "    print(\"P-value amounts to\", pvalue, \"- We reject null hypothesis - Arsenal take more corners than league average\")\n",
    "else:\n",
    "    print(\"P-value amounts to\", pvalue, \" - We do not reject null hypothesis - Arsenal do not take more corners than league average\")"
   ]
  },
  {
   "cell_type": "code",
   "execution_count": 18,
   "metadata": {},
   "outputs": [
    {
     "name": "stdout",
     "output_type": "stream",
     "text": [
      "P-value amounts to 0.5879909398542313  - We do not reject null hypothesis - Liverpool took the same number of corners per game as United\n"
     ]
    }
   ],
   "source": [
    "#check if united takes the same average number of corners per game as liverpool\n",
    "liverpool_corners = summary2.loc[summary2[\"name\"] == 'Liverpool'][\"counts\"]\n",
    "united_corners = summary2.loc[summary2[\"name\"] == 'Manchester United'][\"counts\"]\n",
    "\n",
    "from scipy.stats import ttest_ind\n",
    "t, pvalue  = ttest_ind(a=liverpool_corners, b=united_corners, equal_var=True)\n",
    "\n",
    "if pvalue < 0.05:\n",
    "    print(\"P-value amounts to\", pvalue, \"- We reject null hypothesis - Liverpool took different number of corners per game than United\")\n",
    "else:\n",
    "    print(\"P-value amounts to\", pvalue, \" - We do not reject null hypothesis - Liverpool took the same number of corners per game as United\")"
   ]
  },
  {
   "cell_type": "code",
   "execution_count": 19,
   "metadata": {},
   "outputs": [
    {
     "name": "stdout",
     "output_type": "stream",
     "text": [
      "P-value amounts to 1.4280208353516603e-05 - We reject null hypothesis - City took more corners per game than Newcastle\n"
     ]
    }
   ],
   "source": [
    "city_corners = summary2.loc[summary2[\"name\"] == 'Manchester City'][\"counts\"]\n",
    "castle_corners = summary2.loc[summary2[\"name\"] == 'Newcastle United'][\"counts\"]\n",
    "\n",
    "from scipy.stats import ttest_ind\n",
    "t, pvalue  = ttest_ind(a=city_corners, b=castle_corners, equal_var=True, alternative = \"greater\")\n",
    "\n",
    "if pvalue < 0.05:\n",
    "    print(\"P-value amounts to\", pvalue, \"- We reject null hypothesis - City took more corners per game than Newcastle\")\n",
    "else:\n",
    "    print(\"P-value amounts to\", pvalue, \" - We do not reject null hypothesis - City did not  take the more corners per game than Newcastle\")"
   ]
  }
 ],
 "metadata": {
  "kernelspec": {
   "display_name": "Python 3",
   "language": "python",
   "name": "python3"
  },
  "language_info": {
   "codemirror_mode": {
    "name": "ipython",
    "version": 3
   },
   "file_extension": ".py",
   "mimetype": "text/x-python",
   "name": "python",
   "nbconvert_exporter": "python",
   "pygments_lexer": "ipython3",
   "version": "3.9.11 (tags/v3.9.11:2de452f, Mar 16 2022, 14:33:45) [MSC v.1929 64 bit (AMD64)]"
  },
  "orig_nbformat": 4,
  "vscode": {
   "interpreter": {
    "hash": "556d253b702820a4e0ede7ec9822251d055b384d6f371f26127ecc28dbe36f6b"
   }
  }
 },
 "nbformat": 4,
 "nbformat_minor": 2
}
