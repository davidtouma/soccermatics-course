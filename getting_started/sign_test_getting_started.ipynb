{
 "cells": [
  {
   "cell_type": "code",
   "execution_count": 2,
   "metadata": {},
   "outputs": [],
   "source": [
    "import pandas as pd\n",
    "import numpy as np\n",
    "import json\n",
    "# plotting\n",
    "import matplotlib.pyplot as plt\n",
    "#opening data\n",
    "import os\n",
    "import pathlib\n",
    "import warnings\n",
    "\n",
    "pd.options.mode.chained_assignment = None\n",
    "warnings.filterwarnings('ignore')"
   ]
  },
  {
   "cell_type": "code",
   "execution_count": 15,
   "metadata": {},
   "outputs": [],
   "source": [
    "#Opening Dataset\n",
    "\n",
    "path_players = os.path.join(str(pathlib.Path().resolve()),  'data', 'Wyscout', 'players.json')\n",
    "path_event = os.path.join(str(pathlib.Path().resolve()),  'data', 'Wyscout', 'events_England.json')\n",
    "\n",
    "with open(path_players) as f:\n",
    "    players = json.load(f)\n",
    "player_df = pd.DataFrame(players)\n",
    "\n",
    "with open(path_event) as f:\n",
    "    event = json.load(f)\n",
    "train = pd.DataFrame(event)\n",
    "\n"
   ]
  },
  {
   "cell_type": "code",
   "execution_count": 16,
   "metadata": {},
   "outputs": [],
   "source": [
    "#Prepare dataset\n",
    "\n",
    "# -Filter events to only keep shots. \n",
    "# -We check for Son's ID in the player database\n",
    "# -Look for the shots he made with right foot (id=402) and left foot (id=401)\n",
    "\n",
    "\n",
    "#take shots only\n",
    "shots = train.loc[train['subEventName'] == 'Shot']\n",
    "#look for son's id\n",
    "son_id = player_df.loc[player_df[\"shortName\"] == \"Son Heung-Min\"][\"wyId\"].iloc[0]\n",
    "#get son's shot\n",
    "son_shots = shots.loc[shots[\"playerId\"] == son_id]\n",
    "\n",
    "#left leg shots\n",
    "lefty_shots = son_shots.loc[son_shots.apply (lambda x:{'id':401} in x.tags, axis = 1)]\n",
    "#right leg shots\n",
    "righty_shots = son_shots.loc[son_shots.apply (lambda x:{'id':402} in x.tags, axis = 1)]\n",
    "\n",
    "#create list with ones for left foot shots and -1 for right foot shots\n",
    "l = [1] * len(lefty_shots)\n",
    "l.extend([-1] * len(righty_shots))"
   ]
  },
  {
   "cell_type": "code",
   "execution_count": 17,
   "metadata": {},
   "outputs": [
    {
     "name": "stdout",
     "output_type": "stream",
     "text": [
      "P-value amounts to 0.142  - We do not reject null hypothesis - Heung-Min Son is ambidextrous\n"
     ]
    }
   ],
   "source": [
    "from statsmodels.stats.descriptivestats import sign_test\n",
    "test = sign_test(l, mu0 = 0)\n",
    "pvalue = test[1]\n",
    "\n",
    "if pvalue < 0.05:\n",
    "    print(\"P-value amounts to\", str(pvalue)[:5], \"- We reject null hypothesis - Heung-Min Son is not ambidextrous\")\n",
    "else:\n",
    "    print(\"P-value amounts to\", str(pvalue)[:5], \" - We do not reject null hypothesis - Heung-Min Son is ambidextrous\")"
   ]
  }
 ],
 "metadata": {
  "kernelspec": {
   "display_name": "Python 3",
   "language": "python",
   "name": "python3"
  },
  "language_info": {
   "codemirror_mode": {
    "name": "ipython",
    "version": 3
   },
   "file_extension": ".py",
   "mimetype": "text/x-python",
   "name": "python",
   "nbconvert_exporter": "python",
   "pygments_lexer": "ipython3",
   "version": "3.9.11"
  },
  "orig_nbformat": 4,
  "vscode": {
   "interpreter": {
    "hash": "556d253b702820a4e0ede7ec9822251d055b384d6f371f26127ecc28dbe36f6b"
   }
  }
 },
 "nbformat": 4,
 "nbformat_minor": 2
}
