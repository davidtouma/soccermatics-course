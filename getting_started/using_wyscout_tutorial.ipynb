{
 "cells": [
  {
   "cell_type": "code",
   "execution_count": 2,
   "metadata": {},
   "outputs": [],
   "source": [
    "import pathlib\n",
    "import os\n",
    "import pandas as pd\n",
    "import json"
   ]
  },
  {
   "cell_type": "code",
   "execution_count": 5,
   "metadata": {},
   "outputs": [
    {
     "name": "stdout",
     "output_type": "stream",
     "text": [
      "C:\\Users\\David Touma\\Desktop\\soccermatics-\\getting_started\\soccermatics-\\data\\Wyscout\\competitions.json\n"
     ]
    }
   ],
   "source": [
    "#Måste dra ut denna notebooken från folden för att den ska få rätt path\n",
    "path = os.path.join(str(pathlib.Path().resolve()), 'soccermatics-', 'data', 'Wyscout', 'competitions.json')\n",
    "print(path)"
   ]
  },
  {
   "cell_type": "code",
   "execution_count": 14,
   "metadata": {},
   "outputs": [
    {
     "ename": "FileNotFoundError",
     "evalue": "[Errno 2] No such file or directory: 'C:\\\\Users\\\\David Touma\\\\Desktop\\\\soccermatics-\\\\getting_started\\\\soccermatics-\\\\data\\\\Wyscout\\\\competitions.json'",
     "output_type": "error",
     "traceback": [
      "\u001b[1;31m---------------------------------------------------------------------------\u001b[0m",
      "\u001b[1;31mFileNotFoundError\u001b[0m                         Traceback (most recent call last)",
      "\u001b[1;32mC:\\Users\\DAVIDT~1\\AppData\\Local\\Temp/ipykernel_6484/1237618199.py\u001b[0m in \u001b[0;36m<module>\u001b[1;34m\u001b[0m\n\u001b[0;32m      1\u001b[0m \u001b[1;31m#open data\u001b[0m\u001b[1;33m\u001b[0m\u001b[1;33m\u001b[0m\u001b[0m\n\u001b[0;32m      2\u001b[0m \u001b[1;33m\u001b[0m\u001b[0m\n\u001b[1;32m----> 3\u001b[1;33m \u001b[1;32mwith\u001b[0m \u001b[0mopen\u001b[0m\u001b[1;33m(\u001b[0m\u001b[0mpath\u001b[0m\u001b[1;33m)\u001b[0m \u001b[1;32mas\u001b[0m \u001b[0mf\u001b[0m\u001b[1;33m:\u001b[0m\u001b[1;33m\u001b[0m\u001b[1;33m\u001b[0m\u001b[0m\n\u001b[0m\u001b[0;32m      4\u001b[0m     \u001b[0mdata\u001b[0m \u001b[1;33m=\u001b[0m \u001b[0mjson\u001b[0m\u001b[1;33m.\u001b[0m\u001b[0mload\u001b[0m\u001b[1;33m(\u001b[0m\u001b[0mf\u001b[0m\u001b[1;33m)\u001b[0m\u001b[1;33m\u001b[0m\u001b[1;33m\u001b[0m\u001b[0m\n\u001b[0;32m      5\u001b[0m \u001b[1;33m\u001b[0m\u001b[0m\n",
      "\u001b[1;31mFileNotFoundError\u001b[0m: [Errno 2] No such file or directory: 'C:\\\\Users\\\\David Touma\\\\Desktop\\\\soccermatics-\\\\getting_started\\\\soccermatics-\\\\data\\\\Wyscout\\\\competitions.json'"
     ]
    }
   ],
   "source": [
    "#open data\n",
    "\n",
    "with open(path) as f:\n",
    "    data = json.load(f)\n",
    "\n",
    "df_competitions = pd.DataFrame(data)\n",
    "df_competitions.info()"
   ]
  },
  {
   "cell_type": "code",
   "execution_count": 4,
   "metadata": {},
   "outputs": [
    {
     "name": "stdout",
     "output_type": "stream",
     "text": [
      "<class 'pandas.core.frame.DataFrame'>\n",
      "RangeIndex: 380 entries, 0 to 379\n",
      "Data columns (total 14 columns):\n",
      " #   Column         Non-Null Count  Dtype \n",
      "---  ------         --------------  ----- \n",
      " 0   status         380 non-null    object\n",
      " 1   roundId        380 non-null    int64 \n",
      " 2   gameweek       380 non-null    int64 \n",
      " 3   teamsData      380 non-null    object\n",
      " 4   seasonId       380 non-null    int64 \n",
      " 5   dateutc        380 non-null    object\n",
      " 6   winner         380 non-null    int64 \n",
      " 7   venue          380 non-null    object\n",
      " 8   wyId           380 non-null    int64 \n",
      " 9   label          380 non-null    object\n",
      " 10  date           380 non-null    object\n",
      " 11  referees       380 non-null    object\n",
      " 12  duration       380 non-null    object\n",
      " 13  competitionId  380 non-null    int64 \n",
      "dtypes: int64(6), object(8)\n",
      "memory usage: 41.7+ KB\n"
     ]
    }
   ],
   "source": [
    "#How to find matches from PL 17/18 szn\n",
    "path = os.path.join(str(pathlib.Path().resolve()), 'data', 'Wyscout', 'matches_England.json')\n",
    "\n",
    "with open(path) as f:\n",
    "    data = json.load(f)\n",
    "\n",
    "df_matches = pd.DataFrame(data)\n",
    "df_matches.info()"
   ]
  },
  {
   "cell_type": "code",
   "execution_count": 8,
   "metadata": {},
   "outputs": [
    {
     "name": "stdout",
     "output_type": "stream",
     "text": [
      "                                        passportArea  weight firstName  \\\n",
      "0  {'name': 'Turkey', 'id': '792', 'alpha3code': ...      78     Harun   \n",
      "1  {'name': 'Senegal', 'id': '686', 'alpha3code':...      73    Malang   \n",
      "\n",
      "  middleName lastName currentTeamId   birthDate  height  \\\n",
      "0               Tekin          4502  1989-06-17     187   \n",
      "1                Sarr          3775  1999-01-23     182   \n",
      "\n",
      "                                                role  \\\n",
      "0  {'code2': 'GK', 'code3': 'GKP', 'name': 'Goalk...   \n",
      "1  {'code2': 'DF', 'code3': 'DEF', 'name': 'Defen...   \n",
      "\n",
      "                                           birthArea    wyId   foot shortName  \\\n",
      "0  {'name': 'Turkey', 'id': '792', 'alpha3code': ...   32777  right  H. Tekin   \n",
      "1  {'name': 'France', 'id': '250', 'alpha3code': ...  393228   left   M. Sarr   \n",
      "\n",
      "  currentNationalTeamId  \n",
      "0                  4687  \n",
      "1                  4423  \n"
     ]
    }
   ],
   "source": [
    "#How to find player data\n",
    "path = os.path.join(str(pathlib.Path().resolve()), 'data', 'Wyscout', 'players.json')\n",
    "\n",
    "with open(path) as f:\n",
    "    data = json.load(f)\n",
    "players_df = pd.DataFrame(data)\n",
    "\n",
    "#players_df.info()\n",
    "\n",
    "print(players_df.head(2))\n"
   ]
  },
  {
   "cell_type": "code",
   "execution_count": 12,
   "metadata": {},
   "outputs": [
    {
     "name": "stdout",
     "output_type": "stream",
     "text": [
      "<class 'pandas.core.frame.DataFrame'>\n",
      "RangeIndex: 643150 entries, 0 to 643149\n",
      "Data columns (total 12 columns):\n",
      " #   Column        Non-Null Count   Dtype  \n",
      "---  ------        --------------   -----  \n",
      " 0   eventId       643150 non-null  int64  \n",
      " 1   subEventName  643150 non-null  object \n",
      " 2   tags          643150 non-null  object \n",
      " 3   playerId      643150 non-null  int64  \n",
      " 4   positions     643150 non-null  object \n",
      " 5   matchId       643150 non-null  int64  \n",
      " 6   eventName     643150 non-null  object \n",
      " 7   teamId        643150 non-null  int64  \n",
      " 8   matchPeriod   643150 non-null  object \n",
      " 9   eventSec      643150 non-null  float64\n",
      " 10  subEventId    643150 non-null  object \n",
      " 11  id            643150 non-null  int64  \n",
      "dtypes: float64(1), int64(5), object(6)\n",
      "memory usage: 58.9+ MB\n"
     ]
    }
   ],
   "source": [
    "path = os.path.join(str(pathlib.Path().resolve()), 'data', 'Wyscout', 'events_England.json') # delete #\n",
    "with open(path) as f: # delete #\n",
    "    data = json.load(f) # delete #\n",
    "df_events = pd.DataFrame(data) # delete #\n",
    "\n",
    "#structure of data\n",
    "df_events.info()"
   ]
  }
 ],
 "metadata": {
  "kernelspec": {
   "display_name": "Python 3",
   "language": "python",
   "name": "python3"
  },
  "language_info": {
   "codemirror_mode": {
    "name": "ipython",
    "version": 3
   },
   "file_extension": ".py",
   "mimetype": "text/x-python",
   "name": "python",
   "nbconvert_exporter": "python",
   "pygments_lexer": "ipython3",
   "version": "3.9.11"
  },
  "orig_nbformat": 4,
  "vscode": {
   "interpreter": {
    "hash": "556d253b702820a4e0ede7ec9822251d055b384d6f371f26127ecc28dbe36f6b"
   }
  }
 },
 "nbformat": 4,
 "nbformat_minor": 2
}
